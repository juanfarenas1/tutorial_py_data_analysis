{
 "cells": [
  {
   "cell_type": "code",
   "execution_count": 2,
   "metadata": {},
   "outputs": [],
   "source": [
    "import pandas as pd\n",
    "from matplotlib import pyplot as plt\n",
    "datos= pd.read_csv(\"VC.txt\", header=1, delim_whitespace=True)"
   ]
  },
  {
   "cell_type": "code",
   "execution_count": 3,
   "metadata": {},
   "outputs": [
    {
     "name": "stdout",
     "output_type": "stream",
     "text": [
      "    139  567  509  67  131  20\n",
      "0   339   47   91  15    2   9\n",
      "1   170   20   40   5    1   4\n",
      "2   133  538  499  59  124  24\n",
      "3   259   34   70  17    3   7\n",
      "4   240   25   54   7    4   7\n",
      "5     5    1    1   0    0   0\n",
      "6   449   49  113  29    1   7\n",
      "7    16    1    4   1    0   0\n",
      "8   337   36   86   9    7   9\n",
      "9    90   78   13  19    6   1\n",
      "10  130   16   43  11    1   3\n",
      "11  527   82  163  34    2  32\n",
      "12  629   97  191  34    0  40\n",
      "13  612   94  186  25    2  40\n",
      "14  645  108  206  28    4  46\n",
      "15  615   83  169  24    1  33\n",
      "16    8    1    3   1    0   1\n",
      "17  331   22   73   9    1   6\n",
      "18  146  581  538  69  140  34\n",
      "19   93    7   20   6    0   2\n",
      "20  445   62  120  28    1  23\n",
      "21  543   56  126  23    2  12\n",
      "22  542   65  150  28    3  22\n",
      "23  583   93  158  43    3  35\n",
      "24  494   53  125  36    1  12\n",
      "25  291  275   26  63   10   0\n",
      "26   34   31    6  12    3   0\n",
      "27   30    5    6   1    0   1\n",
      "28  254   24   59  10    0   4\n",
      "29   21    2    4   0    0   1\n",
      "30   63    9   22   3    0   5\n",
      "31   28    4    6   1    0   2\n",
      "32  113   16   33   7    0   7\n",
      "33   12    0    1   0    0   0\n"
     ]
    }
   ],
   "source": [
    "print(datos)"
   ]
  },
  {
   "cell_type": "code",
   "execution_count": 5,
   "metadata": {},
   "outputs": [
    {
     "name": "stderr",
     "output_type": "stream",
     "text": [
      "/usr/local/lib/python3.5/dist-packages/ipykernel_launcher.py:1: DeprecationWarning: \n",
      ".ix is deprecated. Please use\n",
      ".loc for label based indexing or\n",
      ".iloc for positional indexing\n",
      "\n",
      "See the documentation here:\n",
      "http://pandas.pydata.org/pandas-docs/stable/indexing.html#ix-indexer-is-deprecated\n",
      "  \"\"\"Entry point for launching an IPython kernel.\n"
     ]
    }
   ],
   "source": [
    "x= datos.ix[:,0]\n",
    "y= datos.ix[:,1]"
   ]
  },
  {
   "cell_type": "code",
   "execution_count": null,
   "metadata": {},
   "outputs": [],
   "source": []
  }
 ],
 "metadata": {
  "kernelspec": {
   "display_name": "Python 3",
   "language": "python",
   "name": "python3"
  },
  "language_info": {
   "codemirror_mode": {
    "name": "ipython",
    "version": 3
   },
   "file_extension": ".py",
   "mimetype": "text/x-python",
   "name": "python",
   "nbconvert_exporter": "python",
   "pygments_lexer": "ipython3",
   "version": "3.5.4rc1"
  }
 },
 "nbformat": 4,
 "nbformat_minor": 2
}
